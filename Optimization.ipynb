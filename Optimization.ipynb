{
  "nbformat": 4,
  "nbformat_minor": 0,
  "metadata": {
    "colab": {
      "provenance": [],
      "authorship_tag": "ABX9TyPYOgt6+o74ZF34MnZtB85m",
      "include_colab_link": true
    },
    "kernelspec": {
      "name": "python3",
      "display_name": "Python 3"
    },
    "language_info": {
      "name": "python"
    }
  },
  "cells": [
    {
      "cell_type": "markdown",
      "metadata": {
        "id": "view-in-github",
        "colab_type": "text"
      },
      "source": [
        "<a href=\"https://colab.research.google.com/github/zmgy107/Pytorch-Learning-Notes/blob/main/Optimization.ipynb\" target=\"_parent\"><img src=\"https://colab.research.google.com/assets/colab-badge.svg\" alt=\"Open In Colab\"/></a>"
      ]
    },
    {
      "cell_type": "markdown",
      "source": [
        "## Optimizing Model Parameters"
      ],
      "metadata": {
        "id": "CAADP6H0QJMg"
      }
    },
    {
      "cell_type": "markdown",
      "source": [
        "Now that we have a model and data it’s time to train, validate and test our model by optimizing its parameters on our data. Training a model is an iterative process; in each iteration the model makes a guess about the output, calculates the error in its guess (loss), collects the derivatives of the error with respect to its parameters (as we saw in the previous section), and __optimizes__ these parameters using gradient descent. "
      ],
      "metadata": {
        "id": "Y65dEz0jQZ8h"
      }
    },
    {
      "cell_type": "markdown",
      "source": [
        "# Prerequisite Code\n",
        "\n",
        "Load tha code from the previous section"
      ],
      "metadata": {
        "id": "W1oFuxcmUF62"
      }
    },
    {
      "cell_type": "code",
      "source": [
        "import torch\n",
        "from torch import nn\n",
        "from torch.utils.data import DataLoader\n",
        "from torchvision import datasets\n",
        "from torchvision.transforms import ToTensor\n",
        "\n",
        "training_data=datasets.FashionMNIST(\n",
        "    root=\"data\",\n",
        "    train=True,\n",
        "    download=True,\n",
        "    transform=ToTensor()\n",
        ")\n",
        "test_data=datasets.FashionMNIST(\n",
        "    root=\"data\",\n",
        "    train=False,\n",
        "    download=True,\n",
        "    transform=ToTensor()\n",
        ")\n",
        "\n",
        "train_dataloader=DataLoader(training_data,batch_size=64)\n",
        "test_dataloader=DataLoader(test_data,batch_size=64)\n",
        "\n",
        "class NeuralNetwork(nn.Module):\n",
        "  def __init__(self):\n",
        "    super(NeuralNetwork,self).__init__()\n",
        "    self.flatten=nn.Flatten()\n",
        "    self.linear_relu_stack=nn.Sequential(\n",
        "        nn.Linear(28*28,512),\n",
        "        nn.ReLU(),\n",
        "        nn.Linear(512,512),\n",
        "        nn.ReLU(),\n",
        "        nn.Linear(512,10),\n",
        "    )\n",
        "  def forward(self,x):\n",
        "    x=self.flatten(x)\n",
        "    logits=self.linear_relu_stack(x)\n",
        "    return logits\n",
        "\n",
        "model=NeuralNetwork()"
      ],
      "metadata": {
        "id": "qtTf78cdUQPO"
      },
      "execution_count": 13,
      "outputs": []
    },
    {
      "cell_type": "markdown",
      "source": [
        "# Hyperparameters\n",
        "\n",
        "Hyperparameters are adjustable parameters that let you control the model optimization process. Different hyperparameter values can impact model training and convergence rates\n",
        "\n",
        "*   __Number of Epochs__:the number times to iterate over the dataset(the number of dataset/Batch Size)\n",
        "*   __Batch Size__:the number of data samples propagated through the network before the parameters are updated\n",
        "*   __Learning Rate__:how much to update models parameters at each batch/epoch.Smaller values yield slow learning speed,while large values may result in unpredictable behavior during training."
      ],
      "metadata": {
        "id": "H9AK0wBVW-so"
      }
    },
    {
      "cell_type": "code",
      "source": [
        "learning_rate=1e-3\n",
        "batch_size=64\n",
        "epochs=5"
      ],
      "metadata": {
        "id": "sb3tyECjYbF6"
      },
      "execution_count": 14,
      "outputs": []
    },
    {
      "cell_type": "markdown",
      "source": [
        "# Optimization Loop\n",
        "\n",
        "Once we set our hyperparameters, we can then train and optimize our model with an optimization loop. Each iteration of the optimization loop is called an epoch.\n",
        "\n",
        "Each epoch consists of two main parts:\n",
        "\n",
        "*   __The Train Loop__:iterate over the training dataset and try to converge to optimal parameters.\n",
        "*   __The Validation/Test Loop__:iterate over the test dataset to check if model performance is improving.\n",
        "\n"
      ],
      "metadata": {
        "id": "OP11u8qJYmC0"
      }
    },
    {
      "cell_type": "markdown",
      "source": [
        "# Loss Function\n",
        "\n",
        "When presented with some training data, our untrained network is likely not to give the correct answer. Loss function measures the degree of dissimilarity of obtained result to the target value, and it is the loss function that we want to minimize during training. To calculate the loss we make a prediction using the inputs of our given data sample and compare it against the true data label value.\n",
        "\n",
        "Common loss functions include nn.MSELoss (Mean Square Error) for regression tasks, and nn.NLLLoss (Negative Log Likelihood) for classification. nn.CrossEntropyLoss combines nn.LogSoftmax and nn.NLLLoss.\n",
        "\n",
        "We pass our model’s output logits to nn.CrossEntropyLoss, which will normalize the logits and compute the prediction error."
      ],
      "metadata": {
        "id": "jj98cUzEZg2t"
      }
    },
    {
      "cell_type": "code",
      "source": [
        "# Initialize the loss function\n",
        "loss_fn=nn.CrossEntropyLoss()"
      ],
      "metadata": {
        "id": "Q8vmqwTpblin"
      },
      "execution_count": 15,
      "outputs": []
    },
    {
      "cell_type": "markdown",
      "source": [
        "# Optimizer\n",
        "\n",
        "Optimization is the process of adjusting model parameters to reduce model error in each training step. __Optimization algorithms__ define how this process is performed (in this example we use Stochastic Gradient Descent). All optimization logic is encapsulated in the optimizer object. Here, we use the SGD optimizer; additionally, there are many different optimizers available in PyTorch such as ADAM and RMSProp, that work better for different kinds of models and data.\n",
        "\n",
        "We initialize the optimizer by registering the model’s parameters that need to be trained, and passing in the learning rate hyperparameter."
      ],
      "metadata": {
        "id": "5XuteP0db4bq"
      }
    },
    {
      "cell_type": "code",
      "source": [
        "optimizer=torch.optim.SGD(model.parameters(),lr=learning_rate)"
      ],
      "metadata": {
        "id": "Ckj4esMWcjUH"
      },
      "execution_count": 16,
      "outputs": []
    },
    {
      "cell_type": "markdown",
      "source": [
        "Inside the training loop,optimization happens in steps:\n",
        "\n",
        "*   Call optimizer.zero_grad() to reset the gradients of model parameters.Gradients by default add up;to prevent double-counting,we explicitly zero them at each iteration.\n",
        "*   Backpropagate the prediction loss with a call to loss.backward().Pytorch deposits the gradients of the loss w.r.t. each parameter.\n",
        "*   Once we have our gradients,we call optimizer.step() to adjust the parameters by the gradients collected in the backward pass.\n"
      ],
      "metadata": {
        "id": "KEjTeY4Pcrfe"
      }
    },
    {
      "cell_type": "markdown",
      "source": [
        "# Full Implementation\n",
        "\n",
        "We define train_loop that loops over our optimization code, and test_loop that evaluates the model’s performance against our test data."
      ],
      "metadata": {
        "id": "TGgB9YqWeqfS"
      }
    },
    {
      "cell_type": "code",
      "source": [
        "def train_loop(dataloader,model,loss_fn,optimizer):\n",
        "  size=len(dataloader.dataset)\n",
        "  for batch,(X,y) in enumerate(dataloader):\n",
        "    # Compute prediction and loss\n",
        "    pred=model(X)\n",
        "    loss=loss_fn(pred,y)\n",
        "\n",
        "    #Backpropopation\n",
        "    optimizer.zero_grad()\n",
        "    loss.backward()\n",
        "    optimizer.step()\n",
        "\n",
        "    if batch % 100==0:\n",
        "      loss,current=loss.item(),(batch+1)*len(X)\n",
        "      print(f\"loss:{loss:>7f}[{current:>5d}/{size:>5d}]\")\n",
        "\n",
        "def test_loop(dataloader,model,loss_fn):\n",
        "  size=len(dataloader.dataset)\n",
        "  num_batches=len(dataloader)\n",
        "  test_loss,correct=0,0\n",
        "\n",
        "  with torch.no_grad():\n",
        "    for X,y in dataloader:\n",
        "      pred=model(X)\n",
        "      test_loss+=loss_fn(pred,y).item()\n",
        "      correct+=(pred.argmax(1)==y).type(torch.float).sum().item()\n",
        "\n",
        "  test_loss/=num_batches\n",
        "  correct/=size\n",
        "  print(f\"Test Error:\\n Accuracy:{(100*correct):>0.1f}%,Avg loss:{test_loss:>8f}\\n\")"
      ],
      "metadata": {
        "id": "eW9e-KFLez4p"
      },
      "execution_count": 17,
      "outputs": []
    },
    {
      "cell_type": "markdown",
      "source": [
        "We initialize the loss function and optimizer, and pass it to train_loop and test_loop. Feel free to increase the number of epochs to track the model’s improving performance."
      ],
      "metadata": {
        "id": "VVN1zksohmUg"
      }
    },
    {
      "cell_type": "code",
      "source": [
        "loss_fn=nn.CrossEntropyLoss()\n",
        "optimizer=torch.optim.SGD(model.parameters(),lr=learning_rate)\n",
        "\n",
        "epochs=20\n",
        "for t in range(epochs):\n",
        "  print(f\"Epoch{t+1}\\n-------------------------------\")\n",
        "  train_loop(train_dataloader,model,loss_fn,optimizer)\n",
        "  test_loop(test_dataloader,model,loss_fn)\n",
        "print(\"Done!\")"
      ],
      "metadata": {
        "colab": {
          "base_uri": "https://localhost:8080/"
        },
        "id": "AxBD8cBChnm3",
        "outputId": "9a971ef6-6451-42cf-dcfd-fabef45c2adc"
      },
      "execution_count": 18,
      "outputs": [
        {
          "output_type": "stream",
          "name": "stdout",
          "text": [
            "Epoch1\n",
            "-------------------------------\n",
            "loss:2.290461[   64/60000]\n",
            "loss:2.286208[ 6464/60000]\n",
            "loss:2.260115[12864/60000]\n",
            "loss:2.263391[19264/60000]\n",
            "loss:2.248230[25664/60000]\n",
            "loss:2.196564[32064/60000]\n",
            "loss:2.217726[38464/60000]\n",
            "loss:2.170614[44864/60000]\n",
            "loss:2.158456[51264/60000]\n",
            "loss:2.132320[57664/60000]\n",
            "Test Error:\n",
            " Accuracy:38.8%,Avg loss:2.132045\n",
            "\n",
            "Epoch2\n",
            "-------------------------------\n",
            "loss:2.138399[   64/60000]\n",
            "loss:2.131907[ 6464/60000]\n",
            "loss:2.068871[12864/60000]\n",
            "loss:2.095905[19264/60000]\n",
            "loss:2.042340[25664/60000]\n",
            "loss:1.963003[32064/60000]\n",
            "loss:1.999209[38464/60000]\n",
            "loss:1.909289[44864/60000]\n",
            "loss:1.907547[51264/60000]\n",
            "loss:1.839177[57664/60000]\n",
            "Test Error:\n",
            " Accuracy:58.1%,Avg loss:1.846909\n",
            "\n",
            "Epoch3\n",
            "-------------------------------\n",
            "loss:1.875422[   64/60000]\n",
            "loss:1.850544[ 6464/60000]\n",
            "loss:1.730170[12864/60000]\n",
            "loss:1.784598[19264/60000]\n",
            "loss:1.674016[25664/60000]\n",
            "loss:1.614184[32064/60000]\n",
            "loss:1.635826[38464/60000]\n",
            "loss:1.538181[44864/60000]\n",
            "loss:1.563007[51264/60000]\n",
            "loss:1.455947[57664/60000]\n",
            "Test Error:\n",
            " Accuracy:61.2%,Avg loss:1.487846\n",
            "\n",
            "Epoch4\n",
            "-------------------------------\n",
            "loss:1.551534[   64/60000]\n",
            "loss:1.523612[ 6464/60000]\n",
            "loss:1.371679[12864/60000]\n",
            "loss:1.459142[19264/60000]\n",
            "loss:1.338290[25664/60000]\n",
            "loss:1.324399[32064/60000]\n",
            "loss:1.337476[38464/60000]\n",
            "loss:1.265329[44864/60000]\n",
            "loss:1.302395[51264/60000]\n",
            "loss:1.201198[57664/60000]\n",
            "Test Error:\n",
            " Accuracy:62.8%,Avg loss:1.236242\n",
            "\n",
            "Epoch5\n",
            "-------------------------------\n",
            "loss:1.309563[   64/60000]\n",
            "loss:1.297436[ 6464/60000]\n",
            "loss:1.128462[12864/60000]\n",
            "loss:1.249245[19264/60000]\n",
            "loss:1.118531[25664/60000]\n",
            "loss:1.135176[32064/60000]\n",
            "loss:1.157505[38464/60000]\n",
            "loss:1.097077[44864/60000]\n",
            "loss:1.136922[51264/60000]\n",
            "loss:1.053458[57664/60000]\n",
            "Test Error:\n",
            " Accuracy:64.5%,Avg loss:1.079401\n",
            "\n",
            "Epoch6\n",
            "-------------------------------\n",
            "loss:1.146373[   64/60000]\n",
            "loss:1.154629[ 6464/60000]\n",
            "loss:0.969229[12864/60000]\n",
            "loss:1.116416[19264/60000]\n",
            "loss:0.983549[25664/60000]\n",
            "loss:1.006892[32064/60000]\n",
            "loss:1.045442[38464/60000]\n",
            "loss:0.988675[44864/60000]\n",
            "loss:1.027588[51264/60000]\n",
            "loss:0.960259[57664/60000]\n",
            "Test Error:\n",
            " Accuracy:65.6%,Avg loss:0.977296\n",
            "\n",
            "Epoch7\n",
            "-------------------------------\n",
            "loss:1.031500[   64/60000]\n",
            "loss:1.061022[ 6464/60000]\n",
            "loss:0.859148[12864/60000]\n",
            "loss:1.026744[19264/60000]\n",
            "loss:0.898295[25664/60000]\n",
            "loss:0.914984[32064/60000]\n",
            "loss:0.970690[38464/60000]\n",
            "loss:0.916145[44864/60000]\n",
            "loss:0.950351[51264/60000]\n",
            "loss:0.896669[57664/60000]\n",
            "Test Error:\n",
            " Accuracy:67.0%,Avg loss:0.906737\n",
            "\n",
            "Epoch8\n",
            "-------------------------------\n",
            "loss:0.945488[   64/60000]\n",
            "loss:0.994731[ 6464/60000]\n",
            "loss:0.778904[12864/60000]\n",
            "loss:0.962475[19264/60000]\n",
            "loss:0.840756[25664/60000]\n",
            "loss:0.847214[32064/60000]\n",
            "loss:0.917149[38464/60000]\n",
            "loss:0.866310[44864/60000]\n",
            "loss:0.894066[51264/60000]\n",
            "loss:0.849892[57664/60000]\n",
            "Test Error:\n",
            " Accuracy:68.2%,Avg loss:0.855449\n",
            "\n",
            "Epoch9\n",
            "-------------------------------\n",
            "loss:0.878502[   64/60000]\n",
            "loss:0.944102[ 6464/60000]\n",
            "loss:0.718545[12864/60000]\n",
            "loss:0.914535[19264/60000]\n",
            "loss:0.799462[25664/60000]\n",
            "loss:0.796108[32064/60000]\n",
            "loss:0.876082[38464/60000]\n",
            "loss:0.831066[44864/60000]\n",
            "loss:0.851459[51264/60000]\n",
            "loss:0.813706[57664/60000]\n",
            "Test Error:\n",
            " Accuracy:69.5%,Avg loss:0.816392\n",
            "\n",
            "Epoch10\n",
            "-------------------------------\n",
            "loss:0.824576[   64/60000]\n",
            "loss:0.903125[ 6464/60000]\n",
            "loss:0.671508[12864/60000]\n",
            "loss:0.877355[19264/60000]\n",
            "loss:0.767965[25664/60000]\n",
            "loss:0.756937[32064/60000]\n",
            "loss:0.842516[38464/60000]\n",
            "loss:0.804621[44864/60000]\n",
            "loss:0.818090[51264/60000]\n",
            "loss:0.784313[57664/60000]\n",
            "Test Error:\n",
            " Accuracy:70.8%,Avg loss:0.785253\n",
            "\n",
            "Epoch11\n",
            "-------------------------------\n",
            "loss:0.779945[   64/60000]\n",
            "loss:0.868160[ 6464/60000]\n",
            "loss:0.633523[12864/60000]\n",
            "loss:0.847681[19264/60000]\n",
            "loss:0.742773[25664/60000]\n",
            "loss:0.726230[32064/60000]\n",
            "loss:0.813752[38464/60000]\n",
            "loss:0.783675[44864/60000]\n",
            "loss:0.790839[51264/60000]\n",
            "loss:0.759474[57664/60000]\n",
            "Test Error:\n",
            " Accuracy:72.0%,Avg loss:0.759374\n",
            "\n",
            "Epoch12\n",
            "-------------------------------\n",
            "loss:0.742129[   64/60000]\n",
            "loss:0.837379[ 6464/60000]\n",
            "loss:0.601949[12864/60000]\n",
            "loss:0.823375[19264/60000]\n",
            "loss:0.721672[25664/60000]\n",
            "loss:0.701552[32064/60000]\n",
            "loss:0.788188[38464/60000]\n",
            "loss:0.766246[44864/60000]\n",
            "loss:0.767991[51264/60000]\n",
            "loss:0.737854[57664/60000]\n",
            "Test Error:\n",
            " Accuracy:73.1%,Avg loss:0.737073\n",
            "\n",
            "Epoch13\n",
            "-------------------------------\n",
            "loss:0.709359[   64/60000]\n",
            "loss:0.809661[ 6464/60000]\n",
            "loss:0.575115[12864/60000]\n",
            "loss:0.802833[19264/60000]\n",
            "loss:0.703581[25664/60000]\n",
            "loss:0.681205[32064/60000]\n",
            "loss:0.764699[38464/60000]\n",
            "loss:0.751139[44864/60000]\n",
            "loss:0.748281[51264/60000]\n",
            "loss:0.718589[57664/60000]\n",
            "Test Error:\n",
            " Accuracy:74.2%,Avg loss:0.717329\n",
            "\n",
            "Epoch14\n",
            "-------------------------------\n",
            "loss:0.680564[   64/60000]\n",
            "loss:0.784374[ 6464/60000]\n",
            "loss:0.551870[12864/60000]\n",
            "loss:0.785022[19264/60000]\n",
            "loss:0.687663[25664/60000]\n",
            "loss:0.664153[32064/60000]\n",
            "loss:0.743055[38464/60000]\n",
            "loss:0.737713[44864/60000]\n",
            "loss:0.731065[51264/60000]\n",
            "loss:0.701129[57664/60000]\n",
            "Test Error:\n",
            " Accuracy:75.0%,Avg loss:0.699528\n",
            "\n",
            "Epoch15\n",
            "-------------------------------\n",
            "loss:0.655008[   64/60000]\n",
            "loss:0.761193[ 6464/60000]\n",
            "loss:0.531477[12864/60000]\n",
            "loss:0.769227[19264/60000]\n",
            "loss:0.673594[25664/60000]\n",
            "loss:0.649623[32064/60000]\n",
            "loss:0.722859[38464/60000]\n",
            "loss:0.725691[44864/60000]\n",
            "loss:0.715873[51264/60000]\n",
            "loss:0.685142[57664/60000]\n",
            "Test Error:\n",
            " Accuracy:75.9%,Avg loss:0.683286\n",
            "\n",
            "Epoch16\n",
            "-------------------------------\n",
            "loss:0.632121[   64/60000]\n",
            "loss:0.739945[ 6464/60000]\n",
            "loss:0.513467[12864/60000]\n",
            "loss:0.755029[19264/60000]\n",
            "loss:0.661117[25664/60000]\n",
            "loss:0.637073[32064/60000]\n",
            "loss:0.703961[38464/60000]\n",
            "loss:0.714958[44864/60000]\n",
            "loss:0.702412[51264/60000]\n",
            "loss:0.670293[57664/60000]\n",
            "Test Error:\n",
            " Accuracy:76.5%,Avg loss:0.668371\n",
            "\n",
            "Epoch17\n",
            "-------------------------------\n",
            "loss:0.611468[   64/60000]\n",
            "loss:0.720386[ 6464/60000]\n",
            "loss:0.497425[12864/60000]\n",
            "loss:0.742121[19264/60000]\n",
            "loss:0.649993[25664/60000]\n",
            "loss:0.626102[32064/60000]\n",
            "loss:0.686210[38464/60000]\n",
            "loss:0.705416[44864/60000]\n",
            "loss:0.690636[51264/60000]\n",
            "loss:0.656602[57664/60000]\n",
            "Test Error:\n",
            " Accuracy:77.1%,Avg loss:0.654641\n",
            "\n",
            "Epoch18\n",
            "-------------------------------\n",
            "loss:0.592832[   64/60000]\n",
            "loss:0.702388[ 6464/60000]\n",
            "loss:0.482976[12864/60000]\n",
            "loss:0.730323[19264/60000]\n",
            "loss:0.640009[25664/60000]\n",
            "loss:0.616470[32064/60000]\n",
            "loss:0.669558[38464/60000]\n",
            "loss:0.696955[44864/60000]\n",
            "loss:0.680340[51264/60000]\n",
            "loss:0.643979[57664/60000]\n",
            "Test Error:\n",
            " Accuracy:77.7%,Avg loss:0.641988\n",
            "\n",
            "Epoch19\n",
            "-------------------------------\n",
            "loss:0.575907[   64/60000]\n",
            "loss:0.685883[ 6464/60000]\n",
            "loss:0.469896[12864/60000]\n",
            "loss:0.719482[19264/60000]\n",
            "loss:0.631107[25664/60000]\n",
            "loss:0.607934[32064/60000]\n",
            "loss:0.653952[38464/60000]\n",
            "loss:0.689643[44864/60000]\n",
            "loss:0.671353[51264/60000]\n",
            "loss:0.632176[57664/60000]\n",
            "Test Error:\n",
            " Accuracy:78.1%,Avg loss:0.630318\n",
            "\n",
            "Epoch20\n",
            "-------------------------------\n",
            "loss:0.560457[   64/60000]\n",
            "loss:0.670644[ 6464/60000]\n",
            "loss:0.457993[12864/60000]\n",
            "loss:0.709405[19264/60000]\n",
            "loss:0.623069[25664/60000]\n",
            "loss:0.600325[32064/60000]\n",
            "loss:0.639346[38464/60000]\n",
            "loss:0.683416[44864/60000]\n",
            "loss:0.663548[51264/60000]\n",
            "loss:0.621096[57664/60000]\n",
            "Test Error:\n",
            " Accuracy:78.5%,Avg loss:0.619559\n",
            "\n",
            "Done!\n"
          ]
        }
      ]
    }
  ]
}