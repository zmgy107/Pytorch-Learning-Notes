{
  "nbformat": 4,
  "nbformat_minor": 0,
  "metadata": {
    "colab": {
      "provenance": [],
      "authorship_tag": "ABX9TyPQ9cmN9MVsT8S5eyUqjchQ",
      "include_colab_link": true
    },
    "kernelspec": {
      "name": "python3",
      "display_name": "Python 3"
    },
    "language_info": {
      "name": "python"
    },
    "accelerator": "GPU",
    "gpuClass": "standard"
  },
  "cells": [
    {
      "cell_type": "markdown",
      "metadata": {
        "id": "view-in-github",
        "colab_type": "text"
      },
      "source": [
        "<a href=\"https://colab.research.google.com/github/zmgy107/Pytorch-Learning-Notes/blob/main/Build_the_Neural_Network.ipynb\" target=\"_parent\"><img src=\"https://colab.research.google.com/assets/colab-badge.svg\" alt=\"Open In Colab\"/></a>"
      ]
    },
    {
      "cell_type": "markdown",
      "source": [
        "torch.nn namespace provides all the building blocks your own neural network.Every module in PyTorch subclasses the nn.Module. A neural network is a module itself that consists of other modules (layers). This nested structure allows for building and managing complex architectures easily.\n",
        "\n",
        "In the following sections, we’ll build a neural network to classify images in the FashionMNIST dataset."
      ],
      "metadata": {
        "id": "FDdfJOeFxLZ6"
      }
    },
    {
      "cell_type": "code",
      "source": [
        "import os\n",
        "import torch\n",
        "from torch import nn\n",
        "from torch.utils.data import DataLoader\n",
        "from torchvision import datasets,transforms"
      ],
      "metadata": {
        "id": "22EXD2Nyxfo3"
      },
      "execution_count": 10,
      "outputs": []
    },
    {
      "cell_type": "markdown",
      "source": [
        "# Get Device for Training\n",
        "\n",
        "train our model on a hardware accelerator like the GPU."
      ],
      "metadata": {
        "id": "Lu-nN7-_xudz"
      }
    },
    {
      "cell_type": "code",
      "source": [
        "# check if torch.cuda is available,else continue to use the CPU\n",
        "device=\"cuda\" if torch.cuda.is_available() else \"cpu\"\n",
        "print(f\"Using {device} device\")"
      ],
      "metadata": {
        "colab": {
          "base_uri": "https://localhost:8080/"
        },
        "id": "6yVqWKQQyAPm",
        "outputId": "15be647d-4d3a-4894-83c0-9367df7796ff"
      },
      "execution_count": 11,
      "outputs": [
        {
          "output_type": "stream",
          "name": "stdout",
          "text": [
            "Using cuda device\n"
          ]
        }
      ]
    },
    {
      "cell_type": "markdown",
      "source": [
        "# Define the Class\n",
        "\n",
        "We define our neural network by subclassing nn.Module, and initialize the neural network layers in __init__. Every nn.Module subclass implements the operations on input data in the forward method."
      ],
      "metadata": {
        "id": "Bc2c3uzVysHn"
      }
    },
    {
      "cell_type": "code",
      "source": [
        "class NeuralNetwork(nn.Module):\n",
        "  def __init__(self):\n",
        "    super().__init__()\n",
        "    self.flatten=nn.Flatten()\n",
        "    self.linear_relu_stack=nn.Sequential(\n",
        "        nn.Linear(28*28,512),\n",
        "        nn.ReLU(),\n",
        "        nn.Linear(512,512),\n",
        "        nn.ReLU(),\n",
        "        nn.Linear(512,10)\n",
        "    )\n",
        "  def forward(self,x):\n",
        "    x=self.flatten(x)\n",
        "    logits=self.linear_relu_stack(x)\n",
        "    return logits"
      ],
      "metadata": {
        "id": "7TgfeK7zy0ip"
      },
      "execution_count": 12,
      "outputs": []
    },
    {
      "cell_type": "markdown",
      "source": [
        "We create an instance of NeuralNetwork, and move it to the device, and print its structure."
      ],
      "metadata": {
        "id": "-tRR5z1vzvs3"
      }
    },
    {
      "cell_type": "code",
      "source": [
        "# 建完模型后要把它移到cuda上\n",
        "model=NeuralNetwork().to(device)\n",
        "print(model)"
      ],
      "metadata": {
        "colab": {
          "base_uri": "https://localhost:8080/"
        },
        "id": "3GDjiI5zzyGl",
        "outputId": "b83b29f6-6c02-43a6-bbeb-2a17880f3756"
      },
      "execution_count": 13,
      "outputs": [
        {
          "output_type": "stream",
          "name": "stdout",
          "text": [
            "NeuralNetwork(\n",
            "  (flatten): Flatten(start_dim=1, end_dim=-1)\n",
            "  (linear_relu_stack): Sequential(\n",
            "    (0): Linear(in_features=784, out_features=512, bias=True)\n",
            "    (1): ReLU()\n",
            "    (2): Linear(in_features=512, out_features=512, bias=True)\n",
            "    (3): ReLU()\n",
            "    (4): Linear(in_features=512, out_features=10, bias=True)\n",
            "  )\n",
            ")\n"
          ]
        }
      ]
    },
    {
      "cell_type": "markdown",
      "source": [
        "To use the model, we pass it the input data. This executes the model’s forward, along with some background operations. Do not call model.forward() directly!"
      ],
      "metadata": {
        "id": "mU5h54Du0scS"
      }
    },
    {
      "cell_type": "markdown",
      "source": [
        "Calling the model on the input returns a 2-dimensional tensor with dim=0 corresponding to each output of 10 raw predicted values for each class, and dim=1 corresponding to the individual values of each output. We get the prediction probabilities by passing it through an instance of the nn.Softmax module."
      ],
      "metadata": {
        "id": "nm4LbrCF0_U2"
      }
    },
    {
      "cell_type": "code",
      "source": [
        "X=torch.rand(1,28,28,device=device)\n",
        "logits=model(X)\n",
        "pred_probab=nn.Softmax(dim=1)(logits)\n",
        "y_pred=pred_probab.argmax(1)\n",
        "print(f\"Predicted class:{y_pred}\")"
      ],
      "metadata": {
        "colab": {
          "base_uri": "https://localhost:8080/"
        },
        "id": "UWy95gHf1Mi0",
        "outputId": "3dbfe6e1-b201-4902-fffc-3a3835bde2cb"
      },
      "execution_count": 14,
      "outputs": [
        {
          "output_type": "stream",
          "name": "stdout",
          "text": [
            "Predicted class:tensor([0], device='cuda:0')\n"
          ]
        }
      ]
    },
    {
      "cell_type": "markdown",
      "source": [
        "# Model Layers"
      ],
      "metadata": {
        "id": "AZbcsfEb5edr"
      }
    },
    {
      "cell_type": "markdown",
      "source": [
        "break down the layers in the FashionMNIST model"
      ],
      "metadata": {
        "id": "CTGp226z5hzn"
      }
    },
    {
      "cell_type": "code",
      "source": [
        "# take a sample minibatch of 3 images of size 28x28\n",
        "input_image=torch.rand(3,28,28)\n",
        "print(input_image.size())"
      ],
      "metadata": {
        "colab": {
          "base_uri": "https://localhost:8080/"
        },
        "id": "nnNmUeiQ5vu2",
        "outputId": "fb05ea65-4b68-4500-8133-7a93be442a8b"
      },
      "execution_count": 15,
      "outputs": [
        {
          "output_type": "stream",
          "name": "stdout",
          "text": [
            "torch.Size([3, 28, 28])\n"
          ]
        }
      ]
    },
    {
      "cell_type": "markdown",
      "source": [
        "nn.Flatten\n",
        "\n",
        "initialize the nn.Flayyen layer to convert each 2D 28x28 image into a contiguous array of 728 pixel values"
      ],
      "metadata": {
        "id": "DpUidRRx6Ge0"
      }
    },
    {
      "cell_type": "code",
      "source": [
        "flatten=nn.Flatten()\n",
        "flat_image=flatten(input_image)\n",
        "print(flat_image.size())                   "
      ],
      "metadata": {
        "colab": {
          "base_uri": "https://localhost:8080/"
        },
        "id": "iWfxS7MG6g9N",
        "outputId": "0fdd2d40-9836-49da-825f-846c37783abf"
      },
      "execution_count": 16,
      "outputs": [
        {
          "output_type": "stream",
          "name": "stdout",
          "text": [
            "torch.Size([3, 784])\n"
          ]
        }
      ]
    },
    {
      "cell_type": "markdown",
      "source": [
        "nn.Linear\n",
        "\n",
        "apply a linear transformation on the input using its stored weights and bias"
      ],
      "metadata": {
        "id": "vtiWYLCh66OI"
      }
    },
    {
      "cell_type": "code",
      "source": [
        "layer1=nn.Linear(in_features=28*28,out_features=20)\n",
        "hidden1=layer1(flat_image)\n",
        "print(hidden1.size())"
      ],
      "metadata": {
        "colab": {
          "base_uri": "https://localhost:8080/"
        },
        "id": "hnS9i6Kh7C4w",
        "outputId": "86dd6a25-82ac-40eb-cc9d-465a1cc6d044"
      },
      "execution_count": 17,
      "outputs": [
        {
          "output_type": "stream",
          "name": "stdout",
          "text": [
            "torch.Size([3, 20])\n"
          ]
        }
      ]
    },
    {
      "cell_type": "markdown",
      "source": [
        "nn.ReLU\n",
        "\n",
        "Non-linear activation:create the complex mappings between the model’s inputs and outputs.And helping neural networks learn a wide variety of phenomena.\n",
        "\n",
        "ReLU is one of non-linear activations"
      ],
      "metadata": {
        "id": "4JtIA_5Z7Vv-"
      }
    },
    {
      "cell_type": "code",
      "source": [
        "print(f\"Before ReLU:{hidden1}\\n\\n\")\n",
        "hidden1=nn.ReLU()(hidden1)\n",
        "# hidden1=nn.ReLU(hidden1) ReLU(inplace=False)Layer中间为布尔型，输入input要在后面再加一个括号放变量\n",
        "print(f\"After ReLU:{hidden1}\\n\\n\")"
      ],
      "metadata": {
        "colab": {
          "base_uri": "https://localhost:8080/"
        },
        "id": "DPe9n_a170s9",
        "outputId": "90428253-339a-4219-8d13-19549f09d6d4"
      },
      "execution_count": 18,
      "outputs": [
        {
          "output_type": "stream",
          "name": "stdout",
          "text": [
            "Before ReLU:tensor([[ 0.1319,  0.0690,  0.2079, -0.0240,  0.5390, -0.2925,  0.1330,  0.4809,\n",
            "          0.7172, -0.0021,  0.2440,  0.2764, -0.0707, -0.0601,  0.1760,  0.2183,\n",
            "          0.3873, -0.1093, -0.1698, -0.6499],\n",
            "        [ 0.1927,  0.2131,  0.1202,  0.1268,  0.4611,  0.0626,  0.1407,  0.1688,\n",
            "          0.6645,  0.0530,  0.0447,  0.0931, -0.0702,  0.2875, -0.0618,  0.0325,\n",
            "          0.2941, -0.2394,  0.0140, -0.4419],\n",
            "        [ 0.1803, -0.0505,  0.1455, -0.1654,  0.1768, -0.0112,  0.0057,  0.4307,\n",
            "          0.6630, -0.0902,  0.1288,  0.2438, -0.2992, -0.1112, -0.1670,  0.1760,\n",
            "          0.4547,  0.0066, -0.1309, -0.7319]], grad_fn=<AddmmBackward0>)\n",
            "\n",
            "\n",
            "After ReLU:tensor([[0.1319, 0.0690, 0.2079, 0.0000, 0.5390, 0.0000, 0.1330, 0.4809, 0.7172,\n",
            "         0.0000, 0.2440, 0.2764, 0.0000, 0.0000, 0.1760, 0.2183, 0.3873, 0.0000,\n",
            "         0.0000, 0.0000],\n",
            "        [0.1927, 0.2131, 0.1202, 0.1268, 0.4611, 0.0626, 0.1407, 0.1688, 0.6645,\n",
            "         0.0530, 0.0447, 0.0931, 0.0000, 0.2875, 0.0000, 0.0325, 0.2941, 0.0000,\n",
            "         0.0140, 0.0000],\n",
            "        [0.1803, 0.0000, 0.1455, 0.0000, 0.1768, 0.0000, 0.0057, 0.4307, 0.6630,\n",
            "         0.0000, 0.1288, 0.2438, 0.0000, 0.0000, 0.0000, 0.1760, 0.4547, 0.0066,\n",
            "         0.0000, 0.0000]], grad_fn=<ReluBackward0>)\n",
            "\n",
            "\n"
          ]
        }
      ]
    },
    {
      "cell_type": "markdown",
      "source": [
        "nn.Sequential\n",
        "\n",
        "nn.Sequential is an ordered container of modules. The data is passed through all the modules in the same order as defined. You can use sequential containers to put together a quick network like seq_modules."
      ],
      "metadata": {
        "id": "xCIvyOZH9_XY"
      }
    },
    {
      "cell_type": "code",
      "source": [
        "seq_medules=nn.Sequential(\n",
        "    flatten,\n",
        "    layer1,\n",
        "    nn.ReLU(),\n",
        "    nn.Linear(20,10)# 注意输入输入参量个数\n",
        ")\n",
        "input_image=torch.rand(3,28,28)\n",
        "logits=seq_medules(input_image)"
      ],
      "metadata": {
        "id": "YqbOdm_h-H_Q"
      },
      "execution_count": 19,
      "outputs": []
    },
    {
      "cell_type": "markdown",
      "source": [
        "nn.Softmax\n",
        "\n",
        "The last linear layer of the neural network returns logits - raw values in [-infty, infty] - which are passed to the nn.Softmax module. The logits are scaled to values [0, 1] representing the model’s predicted probabilities for each class. dim parameter indicates the dimension along which the values must sum to 1."
      ],
      "metadata": {
        "id": "74AAwIeu-mto"
      }
    },
    {
      "cell_type": "code",
      "source": [
        "softmax=nn.Softmax(dim=1)\n",
        "pred_probab=softmax(logits)"
      ],
      "metadata": {
        "id": "ESGYyuY3-1hT"
      },
      "execution_count": 20,
      "outputs": []
    },
    {
      "cell_type": "markdown",
      "source": [
        "# Model Parameters\n",
        "\n",
        "Many layers inside a neural network are parameterized, i.e. have associated weights and biases that are optimized during training. Subclassing nn.Module automatically tracks all fields defined inside your model object, and makes all parameters accessible using your model’s parameters() or named_parameters() methods.\n",
        "\n",
        "In this example, we iterate over each parameter, and print its size and a preview of its values."
      ],
      "metadata": {
        "id": "UiMDTk8K_CrE"
      }
    },
    {
      "cell_type": "code",
      "source": [
        "print(f\"Model structure:{model}\\n\\n\")\n",
        "\n",
        "for name,param in model.named_parameters():\n",
        "  print(f\"Layer:{name}|Size:{param.size()}|Values:{param[:2]}\\n\")"
      ],
      "metadata": {
        "colab": {
          "base_uri": "https://localhost:8080/"
        },
        "id": "3oSzLe0x_UVn",
        "outputId": "b077d7eb-23df-4693-8dbe-7a3d5d535fe7"
      },
      "execution_count": 22,
      "outputs": [
        {
          "output_type": "stream",
          "name": "stdout",
          "text": [
            "Model structure:NeuralNetwork(\n",
            "  (flatten): Flatten(start_dim=1, end_dim=-1)\n",
            "  (linear_relu_stack): Sequential(\n",
            "    (0): Linear(in_features=784, out_features=512, bias=True)\n",
            "    (1): ReLU()\n",
            "    (2): Linear(in_features=512, out_features=512, bias=True)\n",
            "    (3): ReLU()\n",
            "    (4): Linear(in_features=512, out_features=10, bias=True)\n",
            "  )\n",
            ")\n",
            "\n",
            "\n",
            "Layer:linear_relu_stack.0.weight|Size:torch.Size([512, 784])|Values:tensor([[-0.0253,  0.0141,  0.0333,  ..., -0.0183,  0.0181, -0.0307],\n",
            "        [ 0.0336,  0.0227,  0.0085,  ..., -0.0292,  0.0346, -0.0030]],\n",
            "       device='cuda:0', grad_fn=<SliceBackward0>)\n",
            "\n",
            "Layer:linear_relu_stack.0.bias|Size:torch.Size([512])|Values:tensor([-0.0214,  0.0233], device='cuda:0', grad_fn=<SliceBackward0>)\n",
            "\n",
            "Layer:linear_relu_stack.2.weight|Size:torch.Size([512, 512])|Values:tensor([[ 0.0284, -0.0289, -0.0316,  ..., -0.0117,  0.0099, -0.0254],\n",
            "        [-0.0195,  0.0402,  0.0050,  ...,  0.0435,  0.0105,  0.0260]],\n",
            "       device='cuda:0', grad_fn=<SliceBackward0>)\n",
            "\n",
            "Layer:linear_relu_stack.2.bias|Size:torch.Size([512])|Values:tensor([0.0067, 0.0146], device='cuda:0', grad_fn=<SliceBackward0>)\n",
            "\n",
            "Layer:linear_relu_stack.4.weight|Size:torch.Size([10, 512])|Values:tensor([[ 0.0380,  0.0313,  0.0067,  ..., -0.0250,  0.0272, -0.0280],\n",
            "        [ 0.0109, -0.0047, -0.0060,  ..., -0.0287, -0.0291, -0.0318]],\n",
            "       device='cuda:0', grad_fn=<SliceBackward0>)\n",
            "\n",
            "Layer:linear_relu_stack.4.bias|Size:torch.Size([10])|Values:tensor([ 0.0361, -0.0208], device='cuda:0', grad_fn=<SliceBackward0>)\n",
            "\n"
          ]
        }
      ]
    }
  ]
}