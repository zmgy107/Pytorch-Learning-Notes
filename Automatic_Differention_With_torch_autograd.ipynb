{
  "nbformat": 4,
  "nbformat_minor": 0,
  "metadata": {
    "colab": {
      "provenance": [],
      "authorship_tag": "ABX9TyNghHY1jDCBIqevLMNmhAXw",
      "include_colab_link": true
    },
    "kernelspec": {
      "name": "python3",
      "display_name": "Python 3"
    },
    "language_info": {
      "name": "python"
    }
  },
  "cells": [
    {
      "cell_type": "markdown",
      "metadata": {
        "id": "view-in-github",
        "colab_type": "text"
      },
      "source": [
        "<a href=\"https://colab.research.google.com/github/zmgy107/Pytorch-Learning-Notes/blob/main/Automatic_Differention_With_torch_autograd.ipynb\" target=\"_parent\"><img src=\"https://colab.research.google.com/assets/colab-badge.svg\" alt=\"Open In Colab\"/></a>"
      ]
    },
    {
      "cell_type": "markdown",
      "source": [
        "When training neural networks, the most frequently used algorithm is __back propagation__. In this algorithm, parameters (model weights) are adjusted according to the __gradient__ of the loss function with respect to the given parameter.\n",
        "\n",
        "To compute those gradients, PyTorch has a built-in differentiation engine called torch.autograd. It supports automatic computation of gradient for any computational graph.\n",
        "\n",
        "Consider the simplest one-layer neural network, with input x, parameters w and b, and some loss function. "
      ],
      "metadata": {
        "id": "hZNV6qicqhNJ"
      }
    },
    {
      "cell_type": "code",
      "source": [
        "import torch\n",
        "\n",
        "x=torch.ones(5) #input\n",
        "y=torch.zeros(3) #expected output\n",
        "w=torch.randn(5,3,requires_grad=True) #weight\n",
        "b=torch.rand(3,requires_grad=True) #bias\n",
        "z=torch.matmul(x,w)+b #output\n",
        "loss=torch.nn.functional.binary_cross_entropy_with_logits(z,y) #compute loss"
      ],
      "metadata": {
        "id": "nJy42i82tPzz"
      },
      "execution_count": 8,
      "outputs": []
    },
    {
      "cell_type": "markdown",
      "source": [
        "# Tensors,Functions and Computational graph"
      ],
      "metadata": {
        "id": "pI1zbeE1umAP"
      }
    },
    {
      "cell_type": "markdown",
      "source": [
        "In this network, w and b are parameters, which we need to optimize. Thus, we need to be able to compute the gradients of loss function with respect to those variables. In order to do that, we set the requires_grad property of those tensors.\n",
        "\n",
        "Note:You can set value of require_grad when creating a tensor,or later by using x.requires_grad_(True) method\n",
        "\n",
        "A function that we apply to tensors to construct computational graph is in fact an object of class Function. This object knows how to compute the function in the forward direction, and also how to compute its derivative during the backward propagation step. A reference to the backward propagation function is stored in grad_fn property of a tensor."
      ],
      "metadata": {
        "id": "sT6rROpfurg6"
      }
    },
    {
      "cell_type": "code",
      "source": [
        "# 输出backward propagation存储地址\n",
        "print(f\"Gradient function for z={z.grad_fn}\")\n",
        "print(f\"Gradient function for loss={loss.grad_fn}\")"
      ],
      "metadata": {
        "colab": {
          "base_uri": "https://localhost:8080/"
        },
        "id": "okzOHxIWvLXV",
        "outputId": "85a3b3e7-a4a1-4dfb-8859-758e1a4f619d"
      },
      "execution_count": 9,
      "outputs": [
        {
          "output_type": "stream",
          "name": "stdout",
          "text": [
            "Gradient function for z=<AddBackward0 object at 0x7f27c51105e0>\n",
            "Gradient function for loss=<BinaryCrossEntropyWithLogitsBackward0 object at 0x7f27c51101f0>\n"
          ]
        }
      ]
    },
    {
      "cell_type": "markdown",
      "source": [
        "# Computing Gradients"
      ],
      "metadata": {
        "id": "5ojlXwzywcKq"
      }
    },
    {
      "cell_type": "markdown",
      "source": [
        "To optimize weights of parameters in the neural network, we need to compute the derivatives of our loss function with respect to parameters, namely,we need ∂loss/∂w and ∂loss/∂b under some fixed values of x and y.To compute thos derivatives,we call loss.backward(),and then retrieve the values from w.grad and b.grad:"
      ],
      "metadata": {
        "id": "Eys4Fm6fwwf-"
      }
    },
    {
      "cell_type": "code",
      "source": [
        "loss.backward() #开始计算偏导\n",
        "print(w.grad) #输出计算后w的结果\n",
        "print(b.grad)\n",
        "\n",
        "#计算两次\n",
        "#loss.backward(retain_graph=True) #开始计算偏导\n",
        "#print(w.grad) #输出计算后w的结果\n",
        "#print(b.grad)\n",
        "# loss.backward(retain_graph=True)\n",
        "# print(w.grad)\n",
        "# print(b.grad)"
      ],
      "metadata": {
        "colab": {
          "base_uri": "https://localhost:8080/"
        },
        "id": "xjHFwcTwxamR",
        "outputId": "118ae5b5-79eb-476b-a1ba-9ca9e2401957"
      },
      "execution_count": 10,
      "outputs": [
        {
          "output_type": "stream",
          "name": "stdout",
          "text": [
            "tensor([[0.1315, 0.3233, 0.0424],\n",
            "        [0.1315, 0.3233, 0.0424],\n",
            "        [0.1315, 0.3233, 0.0424],\n",
            "        [0.1315, 0.3233, 0.0424],\n",
            "        [0.1315, 0.3233, 0.0424]])\n",
            "tensor([0.1315, 0.3233, 0.0424])\n"
          ]
        }
      ]
    },
    {
      "cell_type": "markdown",
      "source": [
        "Note:\n",
        "\n",
        "*   we can only obtain the grad properties for the leaf nodes of the computational graph,which have requires_grad property set to True.For all other nodes in graph,gradients will not be available.\n",
        "*   We can only perform gradient calculations using backward once on a given graph, for performance reasons. If we need to do several backward calls on the same graph, we need to pass retain_graph=True to the backward call."
      ],
      "metadata": {
        "id": "YpOpTDMCyHEs"
      }
    },
    {
      "cell_type": "markdown",
      "source": [
        "# Disabling Gradient Tracking"
      ],
      "metadata": {
        "id": "Xxj49sCxzjQT"
      }
    },
    {
      "cell_type": "markdown",
      "source": [
        "By default, all tensors with requires_grad=True are tracking their computational history and support gradient computation. However, there are some cases when we do not need to do that, for example, when we have trained the model and just want to apply it to some input data, i.e. we only want to do forward computations through the network. We can stop tracking computations by surrounding our computation code with torch.no_grad() block:"
      ],
      "metadata": {
        "id": "tmxtROtJzn5b"
      }
    },
    {
      "cell_type": "code",
      "source": [
        "z=torch.matmul(x,w)+b\n",
        "print(z.requires_grad)\n",
        "\n",
        "with torch.no_grad():\n",
        "  z=torch.matmul(x,w)+b\n",
        "print(z.requires_grad)"
      ],
      "metadata": {
        "colab": {
          "base_uri": "https://localhost:8080/"
        },
        "id": "K-x1K1pJz0SC",
        "outputId": "8b91fa7b-1928-4979-8ac6-bf71c55e47fc"
      },
      "execution_count": 11,
      "outputs": [
        {
          "output_type": "stream",
          "name": "stdout",
          "text": [
            "True\n",
            "False\n"
          ]
        }
      ]
    },
    {
      "cell_type": "markdown",
      "source": [
        "Another way to achieve the same result is to use the detach() method on the tensor:"
      ],
      "metadata": {
        "id": "x0nr_QFF0OgT"
      }
    },
    {
      "cell_type": "code",
      "source": [
        "z=torch.matmul(x,w)+b\n",
        "z_det=z.detach()\n",
        "print(z_det.requires_grad)"
      ],
      "metadata": {
        "colab": {
          "base_uri": "https://localhost:8080/"
        },
        "id": "Dz84-MXr0QRq",
        "outputId": "b5a1bbed-d5e0-4600-ba39-5e1e9f78523e"
      },
      "execution_count": 12,
      "outputs": [
        {
          "output_type": "stream",
          "name": "stdout",
          "text": [
            "False\n"
          ]
        }
      ]
    },
    {
      "cell_type": "markdown",
      "source": [
        "There are reasons you might want to disable gradient tracking:\n",
        "\n",
        "*   To mark some parameters in your neural network as __frozen parameters__.\n",
        "*   To __speed up computations__ when you are only doing forward pass, because computations on tensors that do not track gradients would be more efficient."
      ],
      "metadata": {
        "id": "vRuQibDQ0eNW"
      }
    },
    {
      "cell_type": "markdown",
      "source": [
        "# More on Computational Graphs"
      ],
      "metadata": {
        "id": "Jq-HPky30uI8"
      }
    },
    {
      "cell_type": "markdown",
      "source": [
        "Conceptually, autograd keeps a record of data (tensors) and all executed operations (along with the resulting new tensors) in a directed acyclic graph (DAG) consisting of Function objects. In this DAG, leaves are the input tensors, roots are the output tensors. By tracing this graph from roots to leaves, you can automatically compute the gradients using the chain rule."
      ],
      "metadata": {
        "id": "PW3N3qndb-I6"
      }
    },
    {
      "cell_type": "markdown",
      "source": [
        "In a forward pass, autograd does two things simultaneously:\n",
        "\n",
        "*   run the requested operation to compute a resulting tensor\n",
        "*   maintain the operation’s gradient function in the DAG.\n",
        "\n",
        "The backward pass kicks off when .backward() is called on the DAG root. autograd then:\n",
        "\n",
        "*   computes the gradients from each .grad_fn,\n",
        "*   accumulates them in the respective tensor’s .grad attribute\n",
        "*   using the chain rule, propagates all the way to the leaf tensors."
      ],
      "metadata": {
        "id": "kdWYHBKwcAGO"
      }
    },
    {
      "cell_type": "markdown",
      "source": [
        "Note:\n",
        "\n",
        "DAGs are dynamic in PyTorch An important thing to note is that the graph is recreated from scratch; after each .backward() call, autograd starts populating a new graph. This is exactly what allows you to use control flow statements in your model; you can change the shape, size and operations at every iteration if needed."
      ],
      "metadata": {
        "id": "tN1sq1g3cQj1"
      }
    },
    {
      "cell_type": "markdown",
      "source": [
        "# Optional Reading:Tensor Gradients and Jacobian Products"
      ],
      "metadata": {
        "id": "n-LG0jvicXLu"
      }
    },
    {
      "cell_type": "markdown",
      "source": [
        "In many cases, we have a scalar loss function, and we need to compute the gradient with respect to some parameters. However, there are cases when the output function is an arbitrary tensor. In this case, PyTorch allows you to compute so-called __Jacobian product__, and not the actual gradient.\n",
        "\n",
        "For a vector function $\\vec{y}=f(\\vec{x})$ where $\\vec{x}=<x_1,\\dots,x_n>$ and $\\vec{y}=<y_1,\\dots,y_m>$,a gradient of $\\vec{y}$ with respect to $\\vec{x}$ is given by __Jacobian matric__.\n",
        "![jacobian.png](data:image/png;base64,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)"
      ],
      "metadata": {
        "id": "ENHU7fxKcwsY"
      }
    },
    {
      "cell_type": "markdown",
      "source": [
        "Instead of computing the Jacobian matrix itself, PyTorch allows you to compute __Jacobian Product__ $v^T·J$ for a given input vector $v=(v_1,\\dots,v_m)$. This is achieved by calling backward with v as an argument.The size of v should be the same as the size of the original tensor,with respect to which we want to compute the product:"
      ],
      "metadata": {
        "id": "vicnkcZAeQ9z"
      }
    },
    {
      "cell_type": "code",
      "source": [
        "inp=torch.eye(4,5,requires_grad=True)\n",
        "out=(inp+1).pow(2).t()\n",
        "out.backward(torch.ones_like(out),retain_graph=True)\n",
        "print(f\"First call\\n{inp.grad}\")\n",
        "out.backward(torch.ones_like(out),retain_graph=True)\n",
        "print(f\"\\nSecond call\\n{inp.grad}\")\n",
        "inp.grad.zero_()\n",
        "out.backward(torch.ones_like(out),retain_graph=True)\n",
        "print(f\"\\nCall after zeroing gradients\\n{inp.grad}\")"
      ],
      "metadata": {
        "colab": {
          "base_uri": "https://localhost:8080/"
        },
        "id": "TObUlm1rgArA",
        "outputId": "c3b7b764-ee0b-459e-d905-e7af40bcd391"
      },
      "execution_count": 13,
      "outputs": [
        {
          "output_type": "stream",
          "name": "stdout",
          "text": [
            "First call\n",
            "tensor([[4., 2., 2., 2., 2.],\n",
            "        [2., 4., 2., 2., 2.],\n",
            "        [2., 2., 4., 2., 2.],\n",
            "        [2., 2., 2., 4., 2.]])\n",
            "\n",
            "Second call\n",
            "tensor([[8., 4., 4., 4., 4.],\n",
            "        [4., 8., 4., 4., 4.],\n",
            "        [4., 4., 8., 4., 4.],\n",
            "        [4., 4., 4., 8., 4.]])\n",
            "\n",
            "Call after zeroing gradients\n",
            "tensor([[4., 2., 2., 2., 2.],\n",
            "        [2., 4., 2., 2., 2.],\n",
            "        [2., 2., 4., 2., 2.],\n",
            "        [2., 2., 2., 4., 2.]])\n"
          ]
        }
      ]
    },
    {
      "cell_type": "markdown",
      "source": [
        "Notice that when we call backward for the second time with the same argument, the value of the gradient is different. This happens because when doing backward propagation, PyTorch __accumulates the gradients__, i.e. the value of computed gradients is added to the grad property of all leaf nodes of computational graph. If you want to compute the proper gradients, you need to __zero out the grad property before__. In real-life training an __optimizer__ helps us to do this."
      ],
      "metadata": {
        "id": "CmnsBKoeiVq9"
      }
    },
    {
      "cell_type": "markdown",
      "source": [
        "Note:\n",
        "\n",
        "Previously we were calling backward() function without parameters.This is essentially equivalent to calling backward(torch.tensor(1,0)),which is a useful way to compute the gradients in case of a __scalar-valued__ function,such as loss during nerual network training."
      ],
      "metadata": {
        "id": "08pyeAR7ibRl"
      }
    }
  ]
}